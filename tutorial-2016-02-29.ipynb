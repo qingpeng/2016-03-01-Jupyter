{
 "cells": [
  {
   "cell_type": "markdown",
   "metadata": {
    "slideshow": {
     "slide_type": "slide"
    }
   },
   "source": [
    "# Reproducible data analysis with Jupyter iPython Notebook\n",
    "\n",
    "#### Qingpeng Zhang\n",
    "\n",
    "#### 03/01/2016\n",
    "\n"
   ]
  },
  {
   "cell_type": "markdown",
   "metadata": {
    "slideshow": {
     "slide_type": "slide"
    }
   },
   "source": [
    "## Outlines\n",
    "\n",
    "1. Introduction to Jupyter, Jupyter Notebook, and IPython\n",
    "2. Jupyter Notebook on local computer\n",
    "    - Installation\n",
    "    - Running\n",
    "4. Jupyter Notebook on remote NERSC machine\n",
    "    - using Jupyter Hub configured by NERSC staff\n",
    "    - using your own Jupyter server\n",
    "5. Matplotlib and reproducible data analysis\n",
    "6. Share Jupyter Notebook on Github/Bitbucket and nbviewer\n",
    "\n"
   ]
  },
  {
   "cell_type": "markdown",
   "metadata": {
    "slideshow": {
     "slide_type": "slide"
    }
   },
   "source": [
    "## Jupyter, Jupyter Notebook and IPython\n",
    "\n",
    "- Reproducibility\t\n",
    "- Good workspace for plotting, preparing manuscript\n",
    "- Easy access to data on NERSC if running on remote NERSC machine\n",
    "- Easier to\tshare\n",
    "    - Push to bitbucket, see it\ton\tnbviewer\n"
   ]
  },
  {
   "cell_type": "markdown",
   "metadata": {
    "slideshow": {
     "slide_type": "subslide"
    }
   },
   "source": [
    "### Jupyter - from IPython"
   ]
  },
  {
   "cell_type": "markdown",
   "metadata": {
    "slideshow": {
     "slide_type": "fragment"
    }
   },
   "source": [
    "https://jupyter.org/\n",
    "\n",
    "started in 2014\n",
    "\n",
    "**the big split** IPython 3.0 -> 4.0, seperate Jupyter\n",
    "\n",
    "- https://blog.jupyter.org/2015/04/15/the-big-split/\n",
    "\n",
    "\n",
    "Important person: Fernando Perez\n",
    "\n",
    "\"Project Jupyter was born out of the IPython Project in 2014 as it evolved to support interactive data science and scientific computing across all programming languages\"\n",
    "\n",
    "try it in your browser:\n",
    "\n",
    "https://try.jupyter.org/\n",
    "\n"
   ]
  },
  {
   "cell_type": "markdown",
   "metadata": {
    "slideshow": {
     "slide_type": "subslide"
    }
   },
   "source": [
    "### Jupyter Notebook\n",
    "\n",
    "\"The Jupyter Notebook is a web application that allows you to create and share documents that contain live code, equations, visualizations and explanatory text. Uses include: data cleaning and transformation, numerical simulation, statistical modeling, machine learning and much more.\"\n",
    "\n",
    "#### Notebook document\n",
    "\n",
    "#### Jupyter Notebook App\n",
    "server-client"
   ]
  },
  {
   "cell_type": "markdown",
   "metadata": {
    "slideshow": {
     "slide_type": "slide"
    }
   },
   "source": [
    "## Jupyter Notebook on local computer\n",
    "\n",
    "### Installing Jupyter and Jupyter Notebook\n",
    "\n",
    "\"For new users, we highly recommend installing Anaconda. Anaconda conveniently installs Python, the Jupyter Notebook, and other commonly used packages for scientific computing and data science. \"\n",
    "\n",
    "Download Anaconda package:\n",
    "https://www.continuum.io/downloads\n",
    "\n",
    "`$conda install jupyter`\n",
    "\n",
    "`$conda install notebook`\n",
    "\n",
    "\n",
    "\n",
    "If you have installed it before, try to update the packages.\n",
    "\n",
    "ipython -> 4.0\n",
    "\n",
    "jupyter -> 1.0"
   ]
  },
  {
   "cell_type": "markdown",
   "metadata": {
    "slideshow": {
     "slide_type": "subslide"
    }
   },
   "source": [
    "### Running Jupyter Notebook \n",
    "\n",
    "`$jupyter notebook`\n",
    "\n",
    "\n",
    " - launch notebook\n",
    " - change startup folder\n",
    " - shut down notebook App\n",
    " - close a notebook\n",
    " - write code/doc in a notebook\n",
    " - Executing a notebook\n",
    " \n",
    " Notebook Basics - http://nbviewer.jupyter.org/github/jupyter/notebook/blob/master/docs/source/examples/Notebook/Notebook%20Basics.ipynb\n",
    " \n",
    " Markdown Cheatsheet\n",
    " https://github.com/adam-p/markdown-here/wiki/Markdown-Cheatsheet\n",
    " \n",
    " Jupyter Notebook Users Manual\n",
    " http://jupyter.cs.brynmawr.edu/hub/dblank/public/Jupyter%20Notebook%20Users%20Manual.ipynb\n",
    " \n",
    "\n",
    " \n",
    " "
   ]
  },
  {
   "cell_type": "markdown",
   "metadata": {
    "slideshow": {
     "slide_type": "slide"
    }
   },
   "source": [
    "## Jupyter Notebook on remote NERSC machine\n",
    "\n",
    "### using Jupyter Hub configured by NERSC staff\n",
    "\n",
    "### using your own Jupyter server\n"
   ]
  },
  {
   "cell_type": "markdown",
   "metadata": {
    "slideshow": {
     "slide_type": "subslide"
    }
   },
   "source": [
    "\n",
    "\n",
    "### using Jupyter Hub configured by NERSC staff\n",
    "Jupyter Hub on NERSC\n",
    "\n",
    "https://www.nersc.gov/users/data-analytics/data-analytics/web-applications-for-data-analytics/\n",
    "\n",
    "https://ipython.nersc.gov/\n",
    "\n",
    "- experimental\n",
    "- installing more python modules may be an issue\n",
    "- computing resource\n",
    "\n"
   ]
  },
  {
   "cell_type": "markdown",
   "metadata": {
    "slideshow": {
     "slide_type": "subslide"
    }
   },
   "source": [
    "### using your own Jupyter server\n",
    "\n",
    "`$ ssh -t -L 8888:localhost:8888 <username>@genepool10.nersc.gov`\n",
    "\n",
    "What this does is to redirect port 8888 from genepool to local host port 8888.\n",
    "```\n",
    "+------------+    +--------------+\n",
    "| localhost  |    | genepool10   |\n",
    "|------------|    |--------------|\n",
    "|   8888     |+-->|     8888     |\n",
    "+------------+    +--------------+\n",
    "```\n",
    "In your local computer, you can connect to the the remote ipython notebook through https://localhost:8888\n",
    "\n",
    "\n",
    "\n",
    "#### 1. using Anaconda\n",
    "\n",
    "#### 2. using python/pip tool to install ipython/jupyter/etc. seperately\n",
    "compatibility/dependancy may be a issue\n",
    "\n",
    "#### 3. copy and use an existing python environment\n",
    "\n"
   ]
  },
  {
   "cell_type": "markdown",
   "metadata": {
    "slideshow": {
     "slide_type": "slide"
    }
   },
   "source": [
    "## Matplotlib and reproducible data analysis\n",
    "\n",
    "- plotting python libary working together with Jupyter Notebook: \n",
    "\n",
    "http://matplotlib.org/\n",
    "\n",
    "an example\n",
    "\n",
    "http://nbviewer.jupyter.org/github/ged-lab/2013-khmer-counting/blob/master/notebook/khmer-counting.ipynb\n",
    "\n"
   ]
  },
  {
   "cell_type": "code",
   "execution_count": 3,
   "metadata": {
    "collapsed": false,
    "slideshow": {
     "slide_type": "slide"
    }
   },
   "outputs": [
    {
     "data": {
      "image/png": "[encoded data removed]",
      "text/plain": [
       "<matplotlib.figure.Figure at 0x1045c8a50>"
      ]
     },
     "metadata": {},
     "output_type": "display_data"
    }
   ],
   "source": [
    "%matplotlib inline\n",
    "\"\"\"\n",
    "Demo of a simple plot with a custom dashed line.\n",
    "\n",
    "A Line object's ``set_dashes`` method allows you to specify dashes with\n",
    "a series of on/off lengths (in points).\n",
    "\"\"\"\n",
    "import numpy as np\n",
    "import matplotlib.pyplot as plt\n",
    "\n",
    "\n",
    "x = np.linspace(0, 10)\n",
    "line, = plt.plot(x, np.sin(x), '--', linewidth=2)\n",
    "\n",
    "dashes = [10, 5, 100, 5]  # 10 points on, 5 off, 100 on, 5 off\n",
    "line.set_dashes(dashes)\n",
    "\n",
    "plt.show()"
   ]
  },
  {
   "cell_type": "markdown",
   "metadata": {
    "collapsed": true,
    "slideshow": {
     "slide_type": "slide"
    }
   },
   "source": [
    "## Share Jupyter Notebook \n",
    "\n",
    "### on Github/Bitbucket and nbviewer\n",
    "\n",
    "\n",
    "\n",
    "### convert to slides to present\n",
    " \n"
   ]
  },
  {
   "cell_type": "markdown",
   "metadata": {
    "slideshow": {
     "slide_type": "subslide"
    }
   },
   "source": [
    "### on Github/Bitbucket and nbviewer\n",
    "\n",
    "http://nbviewer.jupyter.org/\n",
    "\n",
    "\n",
    "http://nbviewer.jupyter.org/github/ged-lab/2013-khmer-counting/blob/master/notebook/khmer-counting.ipynb\n",
    "\n",
    "Just this Notebook:\n",
    "http://nbviewer.jupyter.org/github/qingpeng/2016-03-01-Jupyter/blob/master/tutorial-2016-02-29.ipynb\n"
   ]
  },
  {
   "cell_type": "markdown",
   "metadata": {
    "slideshow": {
     "slide_type": "subslide"
    }
   },
   "source": [
    "### convert to slides to present\n",
    " \n",
    " Configure \"Slide Type\" for each cell\n",
    " \n",
    " ##### nbconvert: Converting Notebooks to Other Formats\n",
    " \n",
    " http://nbconvert.readthedocs.org/en/latest\n",
    " \n",
    " `$jupyter nbconvert your_slides.ipynb --to slides --post serve`\n",
    " \n",
    "\n",
    " ##### RISE: enable LIVE Jupyter Notebook\n",
    " https://github.com/damianavila/RISE\n",
    " \n",
    " ##### htmlpreview: to show html files, just like \"nbviewer\" for .ipynb file\n",
    " http://htmlpreview.github.io/\n",
    " \n",
    " Just this notebook in html:\n",
    " \n",
    " http://htmlpreview.github.io/?https://raw.githubusercontent.com/qingpeng/2016-03-01-Jupyter/master/tutorial-2016-02-29.slides.html\n",
    " "
   ]
  }
 ],
 "metadata": {
  "celltoolbar": "Slideshow",
  "kernelspec": {
   "display_name": "Python 2",
   "language": "python",
   "name": "python2"
  },
  "language_info": {
   "codemirror_mode": {
    "name": "ipython",
    "version": 2
   },
   "file_extension": ".py",
   "mimetype": "text/x-python",
   "name": "python",
   "nbconvert_exporter": "python",
   "pygments_lexer": "ipython2",
   "version": "2.7.11"
  }
 },
 "nbformat": 4,
 "nbformat_minor": 0
}
